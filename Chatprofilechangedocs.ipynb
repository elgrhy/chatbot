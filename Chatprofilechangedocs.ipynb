{
  "nbformat": 4,
  "nbformat_minor": 0,
  "metadata": {
    "colab": {
      "provenance": [],
      "authorship_tag": "ABX9TyPE0hAfSiRKp++Zuhk77Slc",
      "include_colab_link": true
    },
    "kernelspec": {
      "name": "python3",
      "display_name": "Python 3"
    },
    "language_info": {
      "name": "python"
    }
  },
  "cells": [
    {
      "cell_type": "markdown",
      "metadata": {
        "id": "view-in-github",
        "colab_type": "text"
      },
      "source": [
        "<a href=\"https://colab.research.google.com/github/elgrhy/chatbot/blob/main/Chatprofilechangedocs.ipynb\" target=\"_parent\"><img src=\"https://colab.research.google.com/assets/colab-badge.svg\" alt=\"Open In Colab\"/></a>"
      ]
    },
    {
      "cell_type": "markdown",
      "source": [
        "# Downloading chatterbot"
      ],
      "metadata": {
        "id": "W49gShUSBxHd"
      }
    },
    {
      "cell_type": "code",
      "source": [
        "!pip3 install chatterbot"
      ],
      "metadata": {
        "colab": {
          "base_uri": "https://localhost:8080/"
        },
        "id": "Yfiey7X9EVJo",
        "outputId": "aaea4b92-01bb-412a-be87-307bb2d17370"
      },
      "execution_count": 5,
      "outputs": [
        {
          "output_type": "stream",
          "name": "stdout",
          "text": [
            "Looking in indexes: https://pypi.org/simple, https://us-python.pkg.dev/colab-wheels/public/simple/\n",
            "Collecting chatterbot\n",
            "  Using cached ChatterBot-1.0.5-py2.py3-none-any.whl (67 kB)\n",
            "Collecting python-dateutil<2.8,>=2.7\n",
            "  Using cached python_dateutil-2.7.5-py2.py3-none-any.whl (225 kB)\n",
            "Requirement already satisfied: nltk<4.0,>=3.2 in /usr/local/lib/python3.8/dist-packages (from chatterbot) (3.7)\n",
            "Collecting pyyaml<5.2,>=5.1\n",
            "  Using cached PyYAML-5.1.2.tar.gz (265 kB)\n",
            "  Preparing metadata (setup.py) ... \u001b[?25l\u001b[?25hdone\n",
            "Requirement already satisfied: pytz in /usr/local/lib/python3.8/dist-packages (from chatterbot) (2022.7.1)\n",
            "Collecting pymongo<4.0,>=3.3\n",
            "  Using cached pymongo-3.13.0-cp38-cp38-manylinux_2_17_x86_64.manylinux2014_x86_64.whl (526 kB)\n",
            "Collecting pint>=0.8.1\n",
            "  Using cached Pint-0.20.1-py3-none-any.whl (269 kB)\n",
            "Collecting spacy<2.2,>=2.1\n",
            "  Using cached spacy-2.1.9.tar.gz (30.7 MB)\n",
            "  Installing build dependencies ... \u001b[?25l\u001b[?25hcanceled\n",
            "\u001b[31mERROR: Operation cancelled by user\u001b[0m\u001b[31m\n",
            "\u001b[0m"
          ]
        }
      ]
    },
    {
      "cell_type": "markdown",
      "source": [
        "# Importing Dependencies"
      ],
      "metadata": {
        "id": "Mix5EgglB8z3"
      }
    },
    {
      "cell_type": "code",
      "source": [
        "from chatterbot import ChatBot\n",
        "from chatterbot.trainers import ListTrainer\n",
        "from chatterbot.response_selection import get_most_frequent_response"
      ],
      "metadata": {
        "id": "rbSghO4eB5vh"
      },
      "execution_count": null,
      "outputs": []
    },
    {
      "cell_type": "markdown",
      "source": [
        "# Process"
      ],
      "metadata": {
        "id": "8welWbDTCS2C"
      }
    },
    {
      "cell_type": "code",
      "source": [
        "# Create a new chatbot\n",
        "bank_bot = ChatBot('BankBot', logic_adapters=[\n",
        "    {\n",
        "        'import_path': 'chatterbot.logic.BestMatch',\n",
        "        'statement_comparison_function': 'chatterbot.comparisons.levenshtein_distance',\n",
        "        'response_selection_method': get_most_frequent_response,\n",
        "        'default_response': 'I am sorry, but I do not understand. Please contact our customer service for assistance.',\n",
        "        'maximum_similarity_threshold': 0.8\n",
        "    }\n",
        "])\n",
        "\n",
        "# Training the bot with sample banking conversations\n",
        "conversation = [\n",
        "    'Hi',\n",
        "    'Hello, how can I help you today?',\n",
        "    'What is my account balance?',\n",
        "    'Your account balance is $5000',\n",
        "    'Can you show me my transaction history?',\n",
        "    'Sure, I can help you with that. Please provide your account details',\n",
        "    'My account number is 123456789',\n",
        "    'Your transaction history shows that you made a payment of $500 last week',\n",
        "    'What documents are required to change the company name?',\n",
        "    'To change the company name, you will need to provide a copy of your new company registration certificate and a resolution from the board of directors',\n",
        "    'What documents are required to add a partner to my account?',\n",
        "    'To add a partner to your account, you will need to provide a copy of the partner\\'s ID card and a resolution from the board of directors',\n",
        "    'What documents are required to change the signatory of my account?',\n",
        "    'To change the signatory of your account, you will need to provide a copy of the new signatory\\'s ID card, a resolution from the board of directors and a specimen signature card'\n",
        "]\n",
        "\n",
        "trainer = ListTrainer(bank_bot)\n",
        "trainer.train(conversation)\n",
        "\n",
        "# Chat with the bot\n",
        "print('Welcome to BankBot! How can I assist you today?')\n",
        "while True:\n",
        "    try:\n",
        "        user_input = input('You: ')\n",
        "        bot_response = bank_bot.get_response(user_input)\n",
        "\n",
        "        # Handle specific document requirements\n",
        "        if 'change company name' in user_input.lower():\n",
        "            bot_response = 'To change the company name, you will need to provide a copy of your new company registration certificate and a resolution from the board of directors'\n",
        "        elif 'add partner' in user_input.lower():\n",
        "            bot_response = 'To add a partner to your account, you will need to provide a copy of the partner\\'s ID card and a resolution from the board of directors'\n",
        "        elif 'change signatory' in user_input.lower():\n",
        "            bot_response = 'To change the signatory of your account, you will need to provide a copy of the new signatory\\'s ID card, a resolution from the board of directors and a specimen signature card'\n",
        "\n",
        "        print('Bot: ', bot_response)\n",
        "\n",
        "        # End the conversation with user types 'bye'\n",
        "        if user_input.lower() == 'bye':\n",
        "            break\n",
        "    except(KeyboardInterrupt, EOFError, SystemExit):\n",
        "        break\n"
      ],
      "metadata": {
        "id": "blAgrZmBCWyM"
      },
      "execution_count": null,
      "outputs": []
    }
  ]
}