{
  "nbformat": 4,
  "nbformat_minor": 0,
  "metadata": {
    "colab": {
      "provenance": [],
      "authorship_tag": "ABX9TyOoXMQcrK+EPuModDExyBNt",
      "include_colab_link": true
    },
    "kernelspec": {
      "name": "python3",
      "display_name": "Python 3"
    },
    "language_info": {
      "name": "python"
    }
  },
  "cells": [
    {
      "cell_type": "markdown",
      "metadata": {
        "id": "view-in-github",
        "colab_type": "text"
      },
      "source": [
        "<a href=\"https://colab.research.google.com/github/elgrhy/chatbot/blob/main/chatbot.ipynb\" target=\"_parent\"><img src=\"https://colab.research.google.com/assets/colab-badge.svg\" alt=\"Open In Colab\"/></a>"
      ]
    },
    {
      "cell_type": "markdown",
      "source": [
        "# Install Twilio"
      ],
      "metadata": {
        "id": "_eUq2wgQvv0h"
      }
    },
    {
      "cell_type": "code",
      "source": [
        "!pip3 install twilio"
      ],
      "metadata": {
        "colab": {
          "base_uri": "https://localhost:8080/"
        },
        "id": "A4SC4wNBXsTW",
        "outputId": "89e22f0c-5ecb-43a7-e1d0-2866f7928fa3"
      },
      "execution_count": null,
      "outputs": [
        {
          "output_type": "stream",
          "name": "stdout",
          "text": [
            "Looking in indexes: https://pypi.org/simple, https://us-python.pkg.dev/colab-wheels/public/simple/\n",
            "Collecting twilio\n",
            "  Downloading twilio-7.16.1-py2.py3-none-any.whl (1.4 MB)\n",
            "\u001b[2K     \u001b[90m━━━━━━━━━━━━━━━━━━━━━━━━━━━━━━━━━━━━━━━━\u001b[0m \u001b[32m1.4/1.4 MB\u001b[0m \u001b[31m16.8 MB/s\u001b[0m eta \u001b[36m0:00:00\u001b[0m\n",
            "\u001b[?25hCollecting PyJWT<3.0.0,>=2.0.0\n",
            "  Downloading PyJWT-2.6.0-py3-none-any.whl (20 kB)\n",
            "Requirement already satisfied: requests>=2.0.0 in /usr/local/lib/python3.8/dist-packages (from twilio) (2.25.1)\n",
            "Requirement already satisfied: pytz in /usr/local/lib/python3.8/dist-packages (from twilio) (2022.7)\n",
            "Requirement already satisfied: chardet<5,>=3.0.2 in /usr/local/lib/python3.8/dist-packages (from requests>=2.0.0->twilio) (4.0.0)\n",
            "Requirement already satisfied: urllib3<1.27,>=1.21.1 in /usr/local/lib/python3.8/dist-packages (from requests>=2.0.0->twilio) (1.24.3)\n",
            "Requirement already satisfied: certifi>=2017.4.17 in /usr/local/lib/python3.8/dist-packages (from requests>=2.0.0->twilio) (2022.12.7)\n",
            "Requirement already satisfied: idna<3,>=2.5 in /usr/local/lib/python3.8/dist-packages (from requests>=2.0.0->twilio) (2.10)\n",
            "Installing collected packages: PyJWT, twilio\n",
            "Successfully installed PyJWT-2.6.0 twilio-7.16.1\n"
          ]
        }
      ]
    },
    {
      "cell_type": "markdown",
      "source": [
        "# Import Dependencies"
      ],
      "metadata": {
        "id": "MMV8erH9v5vE"
      }
    },
    {
      "cell_type": "code",
      "execution_count": null,
      "metadata": {
        "id": "0PqcSKfWUt3m"
      },
      "outputs": [],
      "source": [
        "import datetime\n",
        "import csv\n",
        "from twilio.rest import Client\n",
        "from datetime import datetime, timedelta"
      ]
    },
    {
      "cell_type": "markdown",
      "source": [
        "# Twilio Account Information"
      ],
      "metadata": {
        "id": "K3oAZ2kawG85"
      }
    },
    {
      "cell_type": "code",
      "source": [
        "account_sid = 'AC5d7662cb019ed4d4abed565966d521e7'\n",
        "auth_token = '10be5de64f242633c480e6caf0aafaf9'\n",
        "client = Client(account_sid, auth_token)"
      ],
      "metadata": {
        "id": "FxTQhweZXrX5"
      },
      "execution_count": null,
      "outputs": []
    },
    {
      "cell_type": "markdown",
      "source": [
        "# File Name"
      ],
      "metadata": {
        "id": "_MoSk2A7wSna"
      }
    },
    {
      "cell_type": "code",
      "source": [
        "from google.colab import files\n",
        "uploaded = files.upload()"
      ],
      "metadata": {
        "colab": {
          "base_uri": "https://localhost:8080/",
          "height": 73
        },
        "id": "p19QnbZZbFAO",
        "outputId": "d10b6aa0-8c91-4ada-e444-8a10ffd987fa"
      },
      "execution_count": null,
      "outputs": [
        {
          "output_type": "display_data",
          "data": {
            "text/plain": [
              "<IPython.core.display.HTML object>"
            ],
            "text/html": [
              "\n",
              "     <input type=\"file\" id=\"files-1b7e3ab2-8c7a-4941-a222-65ff2baa5e24\" name=\"files[]\" multiple disabled\n",
              "        style=\"border:none\" />\n",
              "     <output id=\"result-1b7e3ab2-8c7a-4941-a222-65ff2baa5e24\">\n",
              "      Upload widget is only available when the cell has been executed in the\n",
              "      current browser session. Please rerun this cell to enable.\n",
              "      </output>\n",
              "      <script>// Copyright 2017 Google LLC\n",
              "//\n",
              "// Licensed under the Apache License, Version 2.0 (the \"License\");\n",
              "// you may not use this file except in compliance with the License.\n",
              "// You may obtain a copy of the License at\n",
              "//\n",
              "//      http://www.apache.org/licenses/LICENSE-2.0\n",
              "//\n",
              "// Unless required by applicable law or agreed to in writing, software\n",
              "// distributed under the License is distributed on an \"AS IS\" BASIS,\n",
              "// WITHOUT WARRANTIES OR CONDITIONS OF ANY KIND, either express or implied.\n",
              "// See the License for the specific language governing permissions and\n",
              "// limitations under the License.\n",
              "\n",
              "/**\n",
              " * @fileoverview Helpers for google.colab Python module.\n",
              " */\n",
              "(function(scope) {\n",
              "function span(text, styleAttributes = {}) {\n",
              "  const element = document.createElement('span');\n",
              "  element.textContent = text;\n",
              "  for (const key of Object.keys(styleAttributes)) {\n",
              "    element.style[key] = styleAttributes[key];\n",
              "  }\n",
              "  return element;\n",
              "}\n",
              "\n",
              "// Max number of bytes which will be uploaded at a time.\n",
              "const MAX_PAYLOAD_SIZE = 100 * 1024;\n",
              "\n",
              "function _uploadFiles(inputId, outputId) {\n",
              "  const steps = uploadFilesStep(inputId, outputId);\n",
              "  const outputElement = document.getElementById(outputId);\n",
              "  // Cache steps on the outputElement to make it available for the next call\n",
              "  // to uploadFilesContinue from Python.\n",
              "  outputElement.steps = steps;\n",
              "\n",
              "  return _uploadFilesContinue(outputId);\n",
              "}\n",
              "\n",
              "// This is roughly an async generator (not supported in the browser yet),\n",
              "// where there are multiple asynchronous steps and the Python side is going\n",
              "// to poll for completion of each step.\n",
              "// This uses a Promise to block the python side on completion of each step,\n",
              "// then passes the result of the previous step as the input to the next step.\n",
              "function _uploadFilesContinue(outputId) {\n",
              "  const outputElement = document.getElementById(outputId);\n",
              "  const steps = outputElement.steps;\n",
              "\n",
              "  const next = steps.next(outputElement.lastPromiseValue);\n",
              "  return Promise.resolve(next.value.promise).then((value) => {\n",
              "    // Cache the last promise value to make it available to the next\n",
              "    // step of the generator.\n",
              "    outputElement.lastPromiseValue = value;\n",
              "    return next.value.response;\n",
              "  });\n",
              "}\n",
              "\n",
              "/**\n",
              " * Generator function which is called between each async step of the upload\n",
              " * process.\n",
              " * @param {string} inputId Element ID of the input file picker element.\n",
              " * @param {string} outputId Element ID of the output display.\n",
              " * @return {!Iterable<!Object>} Iterable of next steps.\n",
              " */\n",
              "function* uploadFilesStep(inputId, outputId) {\n",
              "  const inputElement = document.getElementById(inputId);\n",
              "  inputElement.disabled = false;\n",
              "\n",
              "  const outputElement = document.getElementById(outputId);\n",
              "  outputElement.innerHTML = '';\n",
              "\n",
              "  const pickedPromise = new Promise((resolve) => {\n",
              "    inputElement.addEventListener('change', (e) => {\n",
              "      resolve(e.target.files);\n",
              "    });\n",
              "  });\n",
              "\n",
              "  const cancel = document.createElement('button');\n",
              "  inputElement.parentElement.appendChild(cancel);\n",
              "  cancel.textContent = 'Cancel upload';\n",
              "  const cancelPromise = new Promise((resolve) => {\n",
              "    cancel.onclick = () => {\n",
              "      resolve(null);\n",
              "    };\n",
              "  });\n",
              "\n",
              "  // Wait for the user to pick the files.\n",
              "  const files = yield {\n",
              "    promise: Promise.race([pickedPromise, cancelPromise]),\n",
              "    response: {\n",
              "      action: 'starting',\n",
              "    }\n",
              "  };\n",
              "\n",
              "  cancel.remove();\n",
              "\n",
              "  // Disable the input element since further picks are not allowed.\n",
              "  inputElement.disabled = true;\n",
              "\n",
              "  if (!files) {\n",
              "    return {\n",
              "      response: {\n",
              "        action: 'complete',\n",
              "      }\n",
              "    };\n",
              "  }\n",
              "\n",
              "  for (const file of files) {\n",
              "    const li = document.createElement('li');\n",
              "    li.append(span(file.name, {fontWeight: 'bold'}));\n",
              "    li.append(span(\n",
              "        `(${file.type || 'n/a'}) - ${file.size} bytes, ` +\n",
              "        `last modified: ${\n",
              "            file.lastModifiedDate ? file.lastModifiedDate.toLocaleDateString() :\n",
              "                                    'n/a'} - `));\n",
              "    const percent = span('0% done');\n",
              "    li.appendChild(percent);\n",
              "\n",
              "    outputElement.appendChild(li);\n",
              "\n",
              "    const fileDataPromise = new Promise((resolve) => {\n",
              "      const reader = new FileReader();\n",
              "      reader.onload = (e) => {\n",
              "        resolve(e.target.result);\n",
              "      };\n",
              "      reader.readAsArrayBuffer(file);\n",
              "    });\n",
              "    // Wait for the data to be ready.\n",
              "    let fileData = yield {\n",
              "      promise: fileDataPromise,\n",
              "      response: {\n",
              "        action: 'continue',\n",
              "      }\n",
              "    };\n",
              "\n",
              "    // Use a chunked sending to avoid message size limits. See b/62115660.\n",
              "    let position = 0;\n",
              "    do {\n",
              "      const length = Math.min(fileData.byteLength - position, MAX_PAYLOAD_SIZE);\n",
              "      const chunk = new Uint8Array(fileData, position, length);\n",
              "      position += length;\n",
              "\n",
              "      const base64 = btoa(String.fromCharCode.apply(null, chunk));\n",
              "      yield {\n",
              "        response: {\n",
              "          action: 'append',\n",
              "          file: file.name,\n",
              "          data: base64,\n",
              "        },\n",
              "      };\n",
              "\n",
              "      let percentDone = fileData.byteLength === 0 ?\n",
              "          100 :\n",
              "          Math.round((position / fileData.byteLength) * 100);\n",
              "      percent.textContent = `${percentDone}% done`;\n",
              "\n",
              "    } while (position < fileData.byteLength);\n",
              "  }\n",
              "\n",
              "  // All done.\n",
              "  yield {\n",
              "    response: {\n",
              "      action: 'complete',\n",
              "    }\n",
              "  };\n",
              "}\n",
              "\n",
              "scope.google = scope.google || {};\n",
              "scope.google.colab = scope.google.colab || {};\n",
              "scope.google.colab._files = {\n",
              "  _uploadFiles,\n",
              "  _uploadFilesContinue,\n",
              "};\n",
              "})(self);\n",
              "</script> "
            ]
          },
          "metadata": {}
        },
        {
          "output_type": "stream",
          "name": "stdout",
          "text": [
            "Saving appointments.csv to appointments.csv\n"
          ]
        }
      ]
    },
    {
      "cell_type": "code",
      "source": [
        "file_name = 'appointments.csv'"
      ],
      "metadata": {
        "id": "3iwMl-faZ2VB"
      },
      "execution_count": null,
      "outputs": []
    },
    {
      "cell_type": "markdown",
      "source": [
        "# List of Cities"
      ],
      "metadata": {
        "id": "CJCLY53bwaeK"
      }
    },
    {
      "cell_type": "code",
      "source": [
        "cities = ['Dubai', 'Sharjah', 'RAK']"
      ],
      "metadata": {
        "id": "GuZl6TruaCOB"
      },
      "execution_count": null,
      "outputs": []
    },
    {
      "cell_type": "markdown",
      "source": [
        "# Process\n",
        "**Get customer message and phone number**\n",
        "**Check if message is about company profile change**\n",
        "**Send message to customer with list of cities**\n",
        "** Get customer's desired city**\n",
        "**Send message to customer with available time slots**\n",
        "**Get customer desired time**\n",
        "**Check the appointments.csv file and give the next available date**\n",
        "**Save appointment to CSV file**"
      ],
      "metadata": {
        "id": "wq8QeyFvwgzp"
      }
    },
    {
      "cell_type": "markdown",
      "source": [
        "**Note**\n",
        "*the below number is not registered yet in the twilio*"
      ],
      "metadata": {
        "id": "VyA8xwkHx39C"
      }
    },
    {
      "cell_type": "code",
      "source": [
        "while True:\n",
        "    # Get customer's message and phone number\n",
        "    message = input(\"Enter customer's message: \")\n",
        "    phone_number = input(\"Enter customer's phone number: \")\n",
        "\n",
        "    # Check if message is about company profile change\n",
        "    if \"company profile change\" in message.lower():\n",
        "        # Send message to customer with list of cities\n",
        "        city_list = \"\\n\".join(cities)\n",
        "        message = client.messages.create(\n",
        "            body=f\"Please select a city from the list below for your appointment:\\n{city_list}\",\n",
        "            from_='whatsapp:+14155238886',\n",
        "            to=f'whatsapp:{phone_number}'\n",
        "        )\n",
        "        print(message.sid)\n",
        "\n",
        "        # Get customer's desired city\n",
        "        city = input(\"Enter the city you would like to schedule the appointment: \")\n",
        "\n",
        "        # Send message to customer with available time slots\n",
        "        message = client.messages.create(\n",
        "            body=\"Please select a time slot (10:00 AM or 12:00 PM) for your appointment.\",\n",
        "            from_='whatsapp:+14155238886',\n",
        "            to=f'whatsapp:{phone_number}'\n",
        "        )\n",
        "        print(message.sid)\n",
        "\n",
        "        # Get customer's desired time\n",
        "        time = input(\"Enter the time you would like to schedule the appointment (HH:MM format): \")\n",
        "\n",
        "        # Schedule appointment\n",
        "        scheduled_time = datetime.strptime(time, \"%H:%M\")\n",
        "\n",
        "        # check the appointments.csv file and give the next available date\n",
        "        with open(file_name) as csv_file:\n",
        "            reader = csv.DictReader(csv_file)\n",
        "            appointments = [row for row in reader if row['city'] == city and row['time'] == scheduled_time.strftime(\"%H:%M\")]\n",
        "            appointment_date = datetime.now().date()\n",
        "            while len(appointments) > 0:\n",
        "                appointment_date += timedelta(days=1)\n",
        "                appointments = [row for row in appointments if row['date'] != appointment_date.strftime(\"%Y-%m-%d\")]\n",
        "            print(f\"Appointment scheduled for {appointment_date} at {scheduled_time} in {city}.\")\n",
        "\n",
        "            # Save appointment to CSV file\n",
        "            with open(file_name, mode='a') as csv_file:\n",
        "                fieldnames = ['phone_number', 'city', 'time', 'date']\n",
        "                writer = csv.DictWriter(csv_file, fieldnames=fieldnames)\n",
        "                writer.writeheader()\n",
        "                writer.writerow({'phone_number': phone_number, 'city': city, 'time': scheduled_time.strftime(\"%H:%M\"), 'date': appointment_date.strftime(\"%Y-%m-%d\")})\n",
        "                break\n"
      ],
      "metadata": {
        "id": "-sqxD4Z9W_8e"
      },
      "execution_count": null,
      "outputs": []
    }
  ]
}